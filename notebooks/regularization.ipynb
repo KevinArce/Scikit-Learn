{
 "cells": [
  {
   "cell_type": "markdown",
   "metadata": {},
   "source": []
  },
  {
   "cell_type": "code",
   "execution_count": null,
   "metadata": {},
   "outputs": [],
   "source": [
    "import pandas as pd # data processing, CSV file I/O (excel) \n",
    "import sklearn # machine learning library\n",
    "\n",
    "from sklearn.linear_model import LinearRegression # linear regression is a linear model that fits a linear function to the data.\n",
    "from sklearn.linear_model import Lasso # lasso is a linear model that uses the L1 penalty\n",
    "from sklearn.linear_model import Ridge # ridge is the algorithm that uses the Ridge regularization term to solve the linear regression problem.\n",
    "\n",
    "from sklearn.model_selection import train_test_split # train/test split \n",
    "from sklearn.metrics import mean_squared_error # mean squared error "
   ]
  },
  {
   "cell_type": "code",
   "execution_count": null,
   "metadata": {},
   "outputs": [],
   "source": [
    "dataset = pd.read_csv(\"data/felicidad.csv\") # load data \n",
    "print(dataset.describe()) # print dataset description\n",
    "\n",
    "X = dataset[['gdp','family', 'lifexp', 'freedom', 'corruption', 'generosity', 'dystopia']] # create X matrix \n",
    "y = dataset['score'] # create y matrix\n",
    "\n",
    "print(X.shape) # print X matrix shape\n",
    "print(y.shape) # print y matrix shape\n",
    "\n",
    "X_train, X_test, y_train, y_test = train_test_split(X, y, test_size=0.25, random_state=42) # split data into training and testing sets with 30% test size and random state 42 "
   ]
  },
  {
   "cell_type": "code",
   "execution_count": null,
   "metadata": {},
   "outputs": [],
   "source": [
    "# linear regression \n",
    "modelLinear = LinearRegression().fit(X_train, y_train) # create linear regression object and fit to training data \n",
    "y_predict_linear = modelLinear.predict(X_test) # predict y values using linear regression model \n",
    "\n",
    "# print linear regression score \n",
    "linear_loss = mean_squared_error(y_test, y_predict_linear) # calculate mean squared error of linear regression model\n",
    "print(\"Linear regression loss:\", linear_loss) # print linear regression loss\n",
    "\n",
    "# print linear regression coefficients\n",
    "print(\"Linear regression coefficients:\", modelLinear.coef_) # print linear regression coefficients\n",
    "\n",
    "print(\"=\"*80)"
   ]
  },
  {
   "cell_type": "code",
   "execution_count": null,
   "metadata": {},
   "outputs": [],
   "source": [
    "\n",
    "# lasso \n",
    "modelLasso = Lasso(alpha=0.02).fit(X_train, y_train) # create lasso object with alpha 0.02 and fit to training data\n",
    "y_predict_lasso = modelLasso.predict(X_test) # predict y values using lasso model\n",
    "\n",
    "# print lasso score\n",
    "lasso_loss = mean_squared_error(y_test, y_predict_lasso) # calculate mean squared error of lasso model\n",
    "print(\"Lasso loss:\", lasso_loss) # print lasso loss\n",
    "\n",
    "# print lasso coefficients\n",
    "print(\"Lasso coefficients:\", modelLasso.coef_) # print lasso coefficients\n",
    "\n",
    "print(\"=\"*80)"
   ]
  },
  {
   "cell_type": "code",
   "execution_count": null,
   "metadata": {},
   "outputs": [],
   "source": [
    "# ridge \n",
    "modelRidge = Ridge(alpha=1).fit(X_train, y_train) # create ridge object with alpha 1 and fit to training data\n",
    "y_predict_ridge = modelRidge.predict(X_test) # predict y values using ridge model\n",
    "\n",
    "\n",
    "# print ridge score\n",
    "ridge_loss = mean_squared_error(y_test, y_predict_ridge) # calculate mean squared error of ridge model\n",
    "print(\"Ridge loss:\", ridge_loss) # print ridge loss\n",
    "\n",
    "# print ridge coefficients\n",
    "print(\"Ridge coefficients:\", modelRidge.coef_) # print ridge coefficients"
   ]
  }
 ],
 "metadata": {
  "language_info": {
   "name": "python"
  },
  "orig_nbformat": 4
 },
 "nbformat": 4,
 "nbformat_minor": 2
}
