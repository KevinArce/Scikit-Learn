{
 "cells": [
  {
   "cell_type": "markdown",
   "metadata": {},
   "source": [
    "Dimensionality Reduction, ML can be applied not for the purposes of predicting a value, \n",
    "but in the sense of transforming data from a highdimensional representation to a low-dimensional representation. \n",
    "Take, for example, the vast toxicity dataset we worked with in the previous chapters. We could apply a method\n",
    "such as Principal Component Analysis (PCA) to reduce the 10+ columns of features\n",
    "down to only two or three columns by combining the importance of these features together."
   ]
  },
  {
   "cell_type": "code",
   "execution_count": null,
   "metadata": {},
   "outputs": [],
   "source": [
    "import pandas as pd  # data processing, CSV file I/O (excel)\n",
    "import sklearn  # machine learning library\n",
    "import matplotlib.pyplot as plt  # plotting library\n",
    "\n",
    "from sklearn.decomposition import PCA  # principal component analysis\n",
    "from sklearn.decomposition import (\n",
    "    IncrementalPCA,\n",
    ")  # incremental principal component analysis\n",
    "\n",
    "from sklearn.linear_model import LogisticRegression  # logistic regression\n",
    "\n",
    "from sklearn.preprocessing import StandardScaler  # standard scaler\n",
    "\n",
    "from sklearn.model_selection import train_test_split  # train/test split"
   ]
  },
  {
   "cell_type": "code",
   "execution_count": 1,
   "metadata": {},
   "outputs": [
    {
     "ename": "NameError",
     "evalue": "name 'pd' is not defined",
     "output_type": "error",
     "traceback": [
      "\u001b[0;31m---------------------------------------------------------------------------\u001b[0m",
      "\u001b[0;31mNameError\u001b[0m                                 Traceback (most recent call last)",
      "\u001b[0;32m/var/folders/bc/zb0t647s3pg_fwx03bl1133m0000gq/T/ipykernel_86214/204595359.py\u001b[0m in \u001b[0;36m<module>\u001b[0;34m\u001b[0m\n\u001b[1;32m      1\u001b[0m \u001b[0;31m# load data\u001b[0m\u001b[0;34m\u001b[0m\u001b[0;34m\u001b[0m\u001b[0;34m\u001b[0m\u001b[0m\n\u001b[0;32m----> 2\u001b[0;31m \u001b[0mdt_heart\u001b[0m \u001b[0;34m=\u001b[0m \u001b[0mpd\u001b[0m\u001b[0;34m.\u001b[0m\u001b[0mread_csv\u001b[0m\u001b[0;34m(\u001b[0m\u001b[0;34m\"data/heart.csv\"\u001b[0m\u001b[0;34m)\u001b[0m \u001b[0;31m# load data from heart.csv\u001b[0m\u001b[0;34m\u001b[0m\u001b[0;34m\u001b[0m\u001b[0m\n\u001b[0m\u001b[1;32m      3\u001b[0m \u001b[0;34m\u001b[0m\u001b[0m\n\u001b[1;32m      4\u001b[0m \u001b[0mprint\u001b[0m\u001b[0;34m(\u001b[0m\u001b[0mdt_heart\u001b[0m\u001b[0;34m.\u001b[0m\u001b[0mhead\u001b[0m\u001b[0;34m(\u001b[0m\u001b[0;36m5\u001b[0m\u001b[0;34m)\u001b[0m\u001b[0;34m)\u001b[0m \u001b[0;31m# print first 5 rows\u001b[0m\u001b[0;34m\u001b[0m\u001b[0;34m\u001b[0m\u001b[0m\n\u001b[1;32m      5\u001b[0m \u001b[0;34m\u001b[0m\u001b[0m\n",
      "\u001b[0;31mNameError\u001b[0m: name 'pd' is not defined"
     ]
    }
   ],
   "source": [
    "# load data\n",
    "dt_heart = pd.read_csv(\"data/heart.csv\")  # load data from heart.csv\n",
    "\n",
    "print(dt_heart.head(5))  # print first 5 rows\n",
    "\n",
    "dt_features = dt_heart.drop([\"target\"], axis=1)  # drop target column\n",
    "dt_target = dt_heart[\"target\"]  # target column\n",
    "\n",
    "# standardize data\n",
    "dt_features = StandardScaler().fit_transform(\n",
    "    dt_features\n",
    ")  # fit and transform to standardize data\n",
    "\n",
    "# split data into training and testing sets\n",
    "X_train, X_test, y_train, y_test = train_test_split(\n",
    "    dt_features, dt_target, test_size=0.3, random_state=42\n",
    ")  # split data into training and testing sets with 30% test size and random state 42\n",
    "\n",
    "print(\n",
    "    \"X_train shape:\", X_train.shape\n",
    ")  # print X_train shape (number of rows, number of columns)\n",
    "print(\n",
    "    \"y_train shape:\", y_train.shape\n",
    ")  # print y_train shape (number of rows, number of columns)"
   ]
  },
  {
   "cell_type": "code",
   "execution_count": null,
   "metadata": {},
   "outputs": [],
   "source": [
    "# perform PCA on training data\n",
    "# n_components = number of components to keep. If n_components is not set, it will be set to the number of features.\n",
    "pca = PCA(n_components=3)  # create PCA object with 3 components\n",
    "pca.fit(X_train)  # fit PCA object to training data"
   ]
  },
  {
   "cell_type": "code",
   "execution_count": null,
   "metadata": {},
   "outputs": [],
   "source": [
    "ipca = IncrementalPCA(\n",
    "    n_components=3, batch_size=10\n",
    ")  # create IncrementalPCA object with 3 components and batch size of 10\n",
    "ipca.fit(X_train)  # fit IncrementalPCA object to training data\n"
   ]
  },
  {
   "cell_type": "code",
   "execution_count": null,
   "metadata": {},
   "outputs": [],
   "source": [
    "# plot PCA components\n",
    "plt.plot(\n",
    "    range(len(pca.explained_variance_)), pca.explained_variance_ratio_\n",
    ")  # plot explained variance ratio\n",
    "plt.show()  # show plot\n",
    "\n",
    "logistic = LogisticRegression(\n",
    "    solver=\"lbfgs\"\n",
    ")  # create logistic regression object with solver lbfgs"
   ]
  },
  {
   "cell_type": "code",
   "execution_count": null,
   "metadata": {},
   "outputs": [],
   "source": [
    "# train logistic regression model\n",
    "dt_train = pca.transform(X_train)  # transform training data using PCA\n",
    "dt_test = pca.transform(X_test)  # transform testing data using PCA\n",
    "logistic.fit(dt_train, y_train)  # fit logistic regression model to training data\n",
    "print(\n",
    "    \"(PCA) Logistic regression score:\", logistic.score(dt_test, y_test)\n",
    ")  # print logistic regression score"
   ]
  },
  {
   "cell_type": "code",
   "execution_count": null,
   "metadata": {},
   "outputs": [],
   "source": [
    "dt_train = ipca.transform(X_train)  # transform training data using IncrementalPCA\n",
    "dt_test = ipca.transform(X_test)  # transform testing data using IncrementalPCA\n",
    "logistic.fit(dt_train, y_train)  # fit logistic regression model to training data\n",
    "print(\n",
    "    \"(IPCA) Logistic regression score:\", logistic.score(dt_test, y_test)\n",
    ")  # print logistic regression score"
   ]
  }
 ],
 "metadata": {
  "language_info": {
   "name": "python"
  },
  "orig_nbformat": 4
 },
 "nbformat": 4,
 "nbformat_minor": 2
}
