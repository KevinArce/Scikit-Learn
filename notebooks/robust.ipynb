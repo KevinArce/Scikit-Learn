{
 "cells": [
  {
   "cell_type": "markdown",
   "metadata": {},
   "source": []
  },
  {
   "cell_type": "code",
   "execution_count": null,
   "metadata": {},
   "outputs": [],
   "source": [
    "import pandas as pd # data processing, CSV file I/O (excel)\n",
    "\n",
    "from sklearn.linear_model import ( # linear regression is a linear model that fits a linear function to the data.\n",
    "RANSACRegressor, # RANSACRegressor is a robust estimator that is resistant to outliers. \n",
    "HuberRegressor, # HuberRegressor is a robust estimator that is resistant to outliers.\n",
    ") \n",
    "from sklearn.model_selection import train_test_split # train/test split \n",
    "from sklearn.metrics import mean_squared_error\n",
    "from sklearn.svm import SVR # mean squared error"
   ]
  },
  {
   "cell_type": "code",
   "execution_count": null,
   "metadata": {},
   "outputs": [],
   "source": [
    "dataset = pd.read_csv(\"data/felicidad_corrupt.csv\") # load data \n",
    "print(dataset.head(5)) # print first 5 rows of dataset \n",
    "\n",
    "X = dataset.drop(['country', 'score'], axis = 1) # create X matrix \n",
    "y = dataset['score'] # create y matrix\n",
    "\n",
    "X_train, X_test, y_train, y_test = train_test_split(X, y, test_size=0.3, random_state=42) # split data into training and testing sets with 30% test size and random state 42"
   ]
  },
  {
   "cell_type": "code",
   "execution_count": null,
   "metadata": {},
   "outputs": [],
   "source": [
    "estimadors = { # create dictionary of estimators\n",
    "    'SVR': SVR(gamma= 'auto', C=1, epsilon=0.1), # SVR is a support vector regression model. Gamma is the kernel coefficient for the RBF kernel. C is the penalty parameter for the error term. Epsilon is the epsilon parameter for the epsilon-insensitive loss function.\n",
    "    'RANSAC': RANSACRegressor(), # RANSACRegressor is a robust estimator that is resistant to outliers.\n",
    "    'Huber': HuberRegressor(epsilon=1.35) # HuberRegressor is a robust estimator that is resistant to outliers. epsilon is the epsilon parameter for the Huber loss function.\n",
    "} # end estimators"
   ]
  },
  {
   "cell_type": "code",
   "execution_count": null,
   "metadata": {},
   "outputs": [],
   "source": [
    "for name, estimador in estimadors.items(): # for each estimator in estimadors dictionary \n",
    "    estimador.fit(X_train, y_train) # fit estimator to training data \n",
    "    y_predict = estimador.predict(X_test) # predict y values using estimator \n",
    "\n",
    "    print(80*\"=\") # print divider\n",
    "    print(name) # print estimator name\n",
    "    print(\"MSE:\", mean_squared_error(y_test, y_predict)) # print mean squared error of estimator "
   ]
  }
 ],
 "metadata": {
  "language_info": {
   "name": "python"
  },
  "orig_nbformat": 4
 },
 "nbformat": 4,
 "nbformat_minor": 2
}
