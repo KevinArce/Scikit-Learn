{
 "cells": [
  {
   "cell_type": "markdown",
   "metadata": {},
   "source": [
    "GradientBoostingClassifier is a meta-estimator that fits a number of decision tree classifiers on various sub-samples of the dataset and uses averaging to improve the predictive accuracy and control over-fitting.\n",
    "\n",
    "params:\n",
    "- n_estimators: number of estimators within ensemble\n",
    "\n",
    "https://scikit-learn.org/stable/modules/generated/sklearn.ensemble.GradientBoostingClassifier.html"
   ]
  },
  {
   "cell_type": "code",
   "execution_count": 1,
   "metadata": {},
   "outputs": [],
   "source": [
    "import pandas as pd  # data processing, CSV file I/O (excel)\n",
    "\n",
    "from sklearn.ensemble import (\n",
    "    GradientBoostingClassifier,\n",
    ")  # GradientBoostingClassifier is a meta-estimator that fits a number of decision tree classifiers on various sub-samples of the dataset and uses averaging to improve the predictive accuracy and control over-fitting.\n",
    "\n",
    "from sklearn.model_selection import train_test_split  # train/test split\n",
    "from sklearn.metrics import accuracy_score  # accuracy score"
   ]
  },
  {
   "cell_type": "code",
   "execution_count": null,
   "metadata": {},
   "outputs": [],
   "source": [
    "dt_heart = pd.read_csv(\"data/heart.csv\")  # load data\n",
    "print(dt_heart[\"target\"].describe())  # print target description\n",
    "\n",
    "X = dt_heart.drop([\"target\"], axis=1)  # create X matrix\n",
    "y = dt_heart[\"target\"]  # create y matrix\n",
    "\n",
    "X_train, X_test, y_train, y_test = train_test_split(\n",
    "    X, y, test_size=0.35, random_state=42\n",
    ")  # split data into training and testing sets with 35% test size and random state 42"
   ]
  },
  {
   "cell_type": "code",
   "execution_count": null,
   "metadata": {},
   "outputs": [],
   "source": [
    "boost = GradientBoostingClassifier(n_estimators=50).fit(\n",
    "    X_train, y_train\n",
    ")  # fit GradientBoostingClassifier to training data with 50 estimators"
   ]
  },
  {
   "cell_type": "code",
   "execution_count": null,
   "metadata": {},
   "outputs": [],
   "source": [
    "boost_pred = boost.predict(X_test)  # predict y values using GradientBoostingClassifier\n",
    "print(\"=\" * 80)\n",
    "print(\n",
    "    \"Gradient Boosting Classifier Accuracy:\", accuracy_score(y_test, boost_pred)\n",
    ")  # print accuracy score of GradientBoostingClassifier"
   ]
  }
 ],
 "metadata": {
  "kernelspec": {
   "display_name": "Python 3.9.1 64-bit",
   "language": "python",
   "name": "python3"
  },
  "language_info": {
   "codemirror_mode": {
    "name": "ipython",
    "version": 3
   },
   "file_extension": ".py",
   "mimetype": "text/x-python",
   "name": "python",
   "nbconvert_exporter": "python",
   "pygments_lexer": "ipython3",
   "version": "3.9.1"
  },
  "orig_nbformat": 4,
  "vscode": {
   "interpreter": {
    "hash": "397704579725e15f5c7cb49fe5f0341eb7531c82d19f2c29d197e8b64ab5776b"
   }
  }
 },
 "nbformat": 4,
 "nbformat_minor": 2
}
