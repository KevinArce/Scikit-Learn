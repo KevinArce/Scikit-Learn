{
 "cells": [
  {
   "cell_type": "markdown",
   "metadata": {},
   "source": [
    "Sklearn Kernal Principal Component Analysis (KPCA)\n",
    "\n",
    "parameters:\n",
    "- n_Components: {int} number of components\n",
    "- Kernal: {‘linear’, ‘poly’, ‘rbf’, ‘sigmoid’, ‘cosine’, ‘precomputed’} Kernal Shape used during PCA\n",
    "- gamma:  Coefficient for selected Kernal\n",
    "\n",
    "https://scikit-learn.org/stable/modules/generated/sklearn.decomposition.KernelPCA.html"
   ]
  },
  {
   "cell_type": "code",
   "execution_count": null,
   "metadata": {},
   "outputs": [],
   "source": [
    "import pandas as pd # data processing, CSV file I/O (excel) \n",
    "import sklearn # machine learning library \n",
    "import matplotlib.pyplot as plt # plotting library \n",
    "\n",
    "from sklearn.decomposition import KernelPCA # kernel principal component analysis \n",
    "\n",
    "from sklearn.linear_model import LogisticRegression # logistic regression \n",
    "\n",
    "from sklearn.preprocessing import StandardScaler # standard scaler \n",
    "\n",
    "from sklearn.model_selection import train_test_split # train/test split \n"
   ]
  },
  {
   "cell_type": "code",
   "execution_count": null,
   "metadata": {},
   "outputs": [],
   "source": [
    "\n",
    "# load data \n",
    "dt_heart = pd.read_csv(\"data/heart.csv\") \n",
    "\n",
    "print(dt_heart.head(5)) # print first 5 rows\n",
    "\n",
    "dt_features = dt_heart.drop([\"target\"], axis=1) # drop target column \n",
    "dt_target = dt_heart[\"target\"] # target column\n",
    "\n",
    "# standardize data\n",
    "dt_features = StandardScaler().fit_transform(dt_features) # fit and transform to standardize data\n",
    "\n",
    "# split data into training and testing sets\n",
    "X_train, X_test, y_train, y_test = train_test_split(dt_features, dt_target, test_size=0.3, random_state=42) # split data into training and testing sets with 30% test size and random state 42 "
   ]
  },
  {
   "cell_type": "code",
   "execution_count": null,
   "metadata": {},
   "outputs": [],
   "source": [
    "kpca = KernelPCA(n_components=4, kernel='poly', gamma=0.1) # create KernelPCA object with 4 components and polynomial kernel with gamma 0.1. Gamma is the kernel parameter for the polynomial kernel.\n",
    "kpca.fit(X_train) # fit KernelPCA object to training data\n",
    "\n",
    "dt_train = kpca.transform(X_train) # transform training data using KernelPCA\n",
    "dt_test = kpca.transform(X_test) # transform testing data using KernelPCA\n",
    "\n",
    "logistic = LogisticRegression(solver='lbfgs') # create logistic regression object with solver lbfgs\n",
    "\n",
    "logistic.fit(dt_train, y_train) # fit logistic regression model to training data\n",
    "print(\"(KPCA) Logistic regression score:\", logistic.score(dt_test, y_test)) # print logistic regression score"
   ]
  }
 ],
 "metadata": {
  "language_info": {
   "name": "python"
  },
  "orig_nbformat": 4
 },
 "nbformat": 4,
 "nbformat_minor": 2
}
