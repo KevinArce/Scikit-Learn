{
 "cells": [
  {
   "cell_type": "markdown",
   "metadata": {},
   "source": [
    "Meanshift\n",
    "\n",
    "https://scikit-learn.org/stable/modules/generated/sklearn.cluster.MeanShift.html"
   ]
  },
  {
   "cell_type": "code",
   "execution_count": null,
   "metadata": {},
   "outputs": [],
   "source": [
    "import pandas as pd # data processing, CSV file I/O (excel)\n",
    "\n",
    "from sklearn.cluster import MeanShift # MeanShift is a clustering algorithm that uses the mean shift algorithm to find clusters in a dataset."
   ]
  },
  {
   "cell_type": "code",
   "execution_count": null,
   "metadata": {},
   "outputs": [],
   "source": [
    "dataset = pd.read_csv(\"data/candy.csv\") # load data from candy.csv\n",
    "print(dataset.head(5)) # print first 5 rows of dataset\n",
    "\n",
    "X = dataset.drop(['competitorname'], axis = 1) # create X matrix from dataset"
   ]
  },
  {
   "cell_type": "code",
   "execution_count": null,
   "metadata": {},
   "outputs": [],
   "source": [
    "meanshift = MeanShift().fit(X) # fit MeanShift to X matrix "
   ]
  },
  {
   "cell_type": "code",
   "execution_count": null,
   "metadata": {},
   "outputs": [],
   "source": [
    "print(\"=\"*80)\n",
    "print(\"MeanShift:\", max(meanshift.labels_)) # print number of clusters found by MeanShift \n",
    "print(\"=\"*80)\n",
    "print(\"MeanShift:\", meanshift.cluster_centers_) # print cluster centers found by MeanShift\n",
    "\n",
    "print(\"=\"*80)\n",
    "dataset['meanshift'] = meanshift.labels_ # add cluster labels to dataset \n",
    "print(dataset) # print dataset with cluster labels added to it"
   ]
  }
 ],
 "metadata": {
  "language_info": {
   "name": "python"
  },
  "orig_nbformat": 4
 },
 "nbformat": 4,
 "nbformat_minor": 2
}
